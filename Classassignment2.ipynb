{
 "cells": [
  {
   "cell_type": "code",
   "execution_count": 1,
   "id": "4f269388-3abf-41c2-a6ca-3aea4d563177",
   "metadata": {},
   "outputs": [
    {
     "name": "stdout",
     "output_type": "stream",
     "text": [
      "[ 1  2  3  4  5  6  7  8  9 10]\n"
     ]
    }
   ],
   "source": [
    "#1. Create a NumPy Array\n",
    "#@Task: Create a 1-dimensional NumPy array containing the numbers from 1 to 10.\n",
    "import numpy as np\n",
    "\n",
    "array_1d = np.arange(1, 11)\n",
    "print(array_1d)\n"
   ]
  },
  {
   "cell_type": "code",
   "execution_count": 2,
   "id": "0d79b953-070b-4168-b9d7-54151665467e",
   "metadata": {},
   "outputs": [
    {
     "name": "stdout",
     "output_type": "stream",
     "text": [
      "Array 1: [3 3 6 9 2]\n",
      "Array 2: [10  7  1  3  9]\n",
      "Addition: [13 10  7 12 11]\n",
      "Subtraction: [-7 -4  5  6 -7]\n",
      "Multiplication: [30 21  6 27 18]\n",
      "Division: [0.3        0.42857143 6.         3.         0.22222222]\n"
     ]
    }
   ],
   "source": [
    "#2. Array Operations\n",
    "#Task: Create two 1-dimensional arrays of length 5 with random integers between 1 and 10. \n",
    "#Perform element-wise addition, subtraction, multiplication, and division on these arrays.\n",
    "array1 = np.random.randint(1, 11, size=5)\n",
    "array2 = np.random.randint(1, 11, size=5)\n",
    "\n",
    "addition = array1 + array2\n",
    "subtraction = array1 - array2\n",
    "multiplication = array1 * array2\n",
    "division = array1 / array2\n",
    "\n",
    "print(\"Array 1:\", array1)\n",
    "print(\"Array 2:\", array2)\n",
    "print(\"Addition:\", addition)\n",
    "print(\"Subtraction:\", subtraction)\n",
    "print(\"Multiplication:\", multiplication)\n",
    "print(\"Division:\", division)\n"
   ]
  },
  {
   "cell_type": "code",
   "execution_count": 3,
   "id": "d273c1c1-e109-46b2-ba9e-9ddc6a9e28b7",
   "metadata": {},
   "outputs": [
    {
     "name": "stdout",
     "output_type": "stream",
     "text": [
      "Original array: [ 0  1  2  3  4  5  6  7  8  9 10 11 12 13 14 15 16 17 18 19]\n",
      "First 10 elements: [0 1 2 3 4 5 6 7 8 9]\n",
      "Last 10 elements: [10 11 12 13 14 15 16 17 18 19]\n",
      "Every other element: [ 0  2  4  6  8 10 12 14 16 18]\n"
     ]
    }
   ],
   "source": [
    "#3. Array Slicing\n",
    "#Task: Create a 1-dimensional array of 20 elements with values ranging from 0 to 19. \n",
    "#Slice the array to get the first 10 elements, the last 10 elements, and every other element.\n",
    "array = np.arange(20)\n",
    "\n",
    "first_10 = array[:10]\n",
    "last_10 = array[-10:]\n",
    "every_other = array[::2]\n",
    "\n",
    "print(\"Original array:\", array)\n",
    "print(\"First 10 elements:\", first_10)\n",
    "print(\"Last 10 elements:\", last_10)\n",
    "print(\"Every other element:\", every_other)\n"
   ]
  },
  {
   "cell_type": "code",
   "execution_count": 4,
   "id": "4f71a17b-fac3-4146-b7a6-28ec1009bf29",
   "metadata": {},
   "outputs": [
    {
     "name": "stdout",
     "output_type": "stream",
     "text": [
      "[[1 2 3]\n",
      " [4 5 6]\n",
      " [7 8 9]]\n"
     ]
    }
   ],
   "source": [
    "#4. Matrix Creation\n",
    "#Task: Create a 3x3 matrix with values ranging from 1 to 9.\n",
    "matrix = np.arange(1, 10).reshape(3, 3)\n",
    "print(matrix)\n"
   ]
  },
  {
   "cell_type": "code",
   "execution_count": 5,
   "id": "182e8e24-526b-42c2-91a5-0730e68caf92",
   "metadata": {},
   "outputs": [
    {
     "name": "stdout",
     "output_type": "stream",
     "text": [
      "Matrix 1:\n",
      " [[ 4  8  6]\n",
      " [ 3  6  7]\n",
      " [ 3  1 10]]\n",
      "Matrix 2:\n",
      " [[ 7  1  4]\n",
      " [ 7  4  9]\n",
      " [10  2  1]]\n",
      "Addition:\n",
      " [[11  9 10]\n",
      " [10 10 16]\n",
      " [13  3 11]]\n",
      "Subtraction:\n",
      " [[-3  7  2]\n",
      " [-4  2 -2]\n",
      " [-7 -1  9]]\n",
      "Element-wise Multiplication:\n",
      " [[28  8 24]\n",
      " [21 24 63]\n",
      " [30  2 10]]\n",
      "Matrix Multiplication:\n",
      " [[144  48  94]\n",
      " [133  41  73]\n",
      " [128  27  31]]\n"
     ]
    }
   ],
   "source": [
    "#5. Matrix Operations\n",
    "#Task: Create two 3x3 matrices with random integers between 1 and 10. \n",
    "#Perform matrix addition, subtraction, element-wise multiplication, and matrix multiplication.\n",
    "matrix1 = np.random.randint(1, 11, size=(3, 3))\n",
    "matrix2 = np.random.randint(1, 11, size=(3, 3))\n",
    "\n",
    "addition = matrix1 + matrix2\n",
    "subtraction = matrix1 - matrix2\n",
    "elementwise_multiplication = matrix1 * matrix2\n",
    "matrix_multiplication = np.dot(matrix1, matrix2)\n",
    "\n",
    "print(\"Matrix 1:\\n\", matrix1)\n",
    "print(\"Matrix 2:\\n\", matrix2)\n",
    "print(\"Addition:\\n\", addition)\n",
    "print(\"Subtraction:\\n\", subtraction)\n",
    "print(\"Element-wise Multiplication:\\n\", elementwise_multiplication)\n",
    "print(\"Matrix Multiplication:\\n\", matrix_multiplication)\n"
   ]
  },
  {
   "cell_type": "code",
   "execution_count": 6,
   "id": "ded32f2a-d349-44b3-8771-39d16f93159b",
   "metadata": {},
   "outputs": [
    {
     "name": "stdout",
     "output_type": "stream",
     "text": [
      "Array: [79 26 15  6 40 73 67 58 73 39 49 20 19 34 34]\n",
      "Mean: 42.13333333333333\n",
      "Median: 39.0\n",
      "Standard Deviation: 22.591640538531554\n",
      "Variance: 510.3822222222222\n"
     ]
    }
   ],
   "source": [
    "#6. Statistical Operations\n",
    "#Task: Create a 1-dimensional array with 15 random integers between 1 and 100. \n",
    "#Calculate the mean, median, standard deviation, and variance of the array.\n",
    "array = np.random.randint(1, 101, size=15)\n",
    "\n",
    "mean = np.mean(array)\n",
    "median = np.median(array)\n",
    "std_dev = np.std(array)\n",
    "variance = np.var(array)\n",
    "\n",
    "print(\"Array:\", array)\n",
    "print(\"Mean:\", mean)\n",
    "print(\"Median:\", median)\n",
    "print(\"Standard Deviation:\", std_dev)\n",
    "print(\"Variance:\", variance)\n"
   ]
  },
  {
   "cell_type": "code",
   "execution_count": 7,
   "id": "32292167-cf4c-418b-928b-c02ee8e16bd5",
   "metadata": {},
   "outputs": [
    {
     "name": "stdout",
     "output_type": "stream",
     "text": [
      "[[ 0  1  2  3]\n",
      " [ 4  5  6  7]\n",
      " [ 8  9 10 11]]\n"
     ]
    }
   ],
   "source": [
    "#7. Reshaping Arrays\n",
    "#Task: Create a 1-dimensional array of 12 elements and reshape it into a 3x4 matrix.\n",
    "array = np.arange(12).reshape(3, 4)\n",
    "print(array)\n"
   ]
  },
  {
   "cell_type": "code",
   "execution_count": 8,
   "id": "9a850f15-2d9e-4daf-8c71-c40a49bf1e98",
   "metadata": {},
   "outputs": [
    {
     "name": "stdout",
     "output_type": "stream",
     "text": [
      "Array: [18  9  4  5 13 20 19  2  5 20]\n",
      "Elements greater than 10: [18 13 20 19 20]\n"
     ]
    }
   ],
   "source": [
    "#8. Boolean Indexing\n",
    "#Task: Create a 1-dimensional array of 10 random integers between 0 and 20. \n",
    "#Use boolean indexing to select elements greater than 10.\n",
    "array = np.random.randint(0, 21, size=10)\n",
    "greater_than_10 = array[array > 10]\n",
    "\n",
    "print(\"Array:\", array)\n",
    "print(\"Elements greater than 10:\", greater_than_10)\n"
   ]
  },
  {
   "cell_type": "code",
   "execution_count": 9,
   "id": "43afd0ca-f164-4ecf-89c3-537357680a0c",
   "metadata": {},
   "outputs": [
    {
     "name": "stdout",
     "output_type": "stream",
     "text": [
      "      Name  Age         City\n",
      "0    Alice   24     New York\n",
      "1      Bob   27  Los Angeles\n",
      "2  Charlie   22      Chicago\n",
      "3    David   32      Houston\n",
      "4      Eva   29      Phoenix\n"
     ]
    }
   ],
   "source": [
    "#1. Creating DataFrames\n",
    "#Task: Create a DataFrame with three columns: 'Name', 'Age', and 'City', and five rows of data.\n",
    "import pandas as pd\n",
    "\n",
    "data = {\n",
    "    'Name': ['Alice', 'Bob', 'Charlie', 'David', 'Eva'],\n",
    "    'Age': [24, 27, 22, 32, 29],\n",
    "    'City': ['New York', 'Los Angeles', 'Chicago', 'Houston', 'Phoenix']\n",
    "}\n",
    "\n",
    "df = pd.DataFrame(data)\n",
    "print(df)\n"
   ]
  },
  {
   "cell_type": "code",
   "execution_count": 10,
   "id": "431899f3-4cd3-42d8-a3b2-b365e6e443ad",
   "metadata": {},
   "outputs": [
    {
     "ename": "FileNotFoundError",
     "evalue": "[Errno 2] No such file or directory: 'input.csv'",
     "output_type": "error",
     "traceback": [
      "\u001b[1;31m---------------------------------------------------------------------------\u001b[0m",
      "\u001b[1;31mFileNotFoundError\u001b[0m                         Traceback (most recent call last)",
      "Cell \u001b[1;32mIn[10], line 5\u001b[0m\n\u001b[0;32m      1\u001b[0m \u001b[38;5;66;03m#2. Reading and Writing Data\u001b[39;00m\n\u001b[0;32m      2\u001b[0m \u001b[38;5;66;03m#Task: Read a CSV file into a DataFrame and write the DataFrame to a new CSV file.\u001b[39;00m\n\u001b[0;32m      3\u001b[0m \n\u001b[0;32m      4\u001b[0m \u001b[38;5;66;03m# Reading a CSV file\u001b[39;00m\n\u001b[1;32m----> 5\u001b[0m df \u001b[38;5;241m=\u001b[39m pd\u001b[38;5;241m.\u001b[39mread_csv(\u001b[38;5;124m'\u001b[39m\u001b[38;5;124minput.csv\u001b[39m\u001b[38;5;124m'\u001b[39m)\n\u001b[0;32m      6\u001b[0m \u001b[38;5;28mprint\u001b[39m(df)\n\u001b[0;32m      8\u001b[0m \u001b[38;5;66;03m# Writing to a new CSV file\u001b[39;00m\n",
      "File \u001b[1;32m~\\anaconda3\\Lib\\site-packages\\pandas\\io\\parsers\\readers.py:948\u001b[0m, in \u001b[0;36mread_csv\u001b[1;34m(filepath_or_buffer, sep, delimiter, header, names, index_col, usecols, dtype, engine, converters, true_values, false_values, skipinitialspace, skiprows, skipfooter, nrows, na_values, keep_default_na, na_filter, verbose, skip_blank_lines, parse_dates, infer_datetime_format, keep_date_col, date_parser, date_format, dayfirst, cache_dates, iterator, chunksize, compression, thousands, decimal, lineterminator, quotechar, quoting, doublequote, escapechar, comment, encoding, encoding_errors, dialect, on_bad_lines, delim_whitespace, low_memory, memory_map, float_precision, storage_options, dtype_backend)\u001b[0m\n\u001b[0;32m    935\u001b[0m kwds_defaults \u001b[38;5;241m=\u001b[39m _refine_defaults_read(\n\u001b[0;32m    936\u001b[0m     dialect,\n\u001b[0;32m    937\u001b[0m     delimiter,\n\u001b[1;32m   (...)\u001b[0m\n\u001b[0;32m    944\u001b[0m     dtype_backend\u001b[38;5;241m=\u001b[39mdtype_backend,\n\u001b[0;32m    945\u001b[0m )\n\u001b[0;32m    946\u001b[0m kwds\u001b[38;5;241m.\u001b[39mupdate(kwds_defaults)\n\u001b[1;32m--> 948\u001b[0m \u001b[38;5;28;01mreturn\u001b[39;00m _read(filepath_or_buffer, kwds)\n",
      "File \u001b[1;32m~\\anaconda3\\Lib\\site-packages\\pandas\\io\\parsers\\readers.py:611\u001b[0m, in \u001b[0;36m_read\u001b[1;34m(filepath_or_buffer, kwds)\u001b[0m\n\u001b[0;32m    608\u001b[0m _validate_names(kwds\u001b[38;5;241m.\u001b[39mget(\u001b[38;5;124m\"\u001b[39m\u001b[38;5;124mnames\u001b[39m\u001b[38;5;124m\"\u001b[39m, \u001b[38;5;28;01mNone\u001b[39;00m))\n\u001b[0;32m    610\u001b[0m \u001b[38;5;66;03m# Create the parser.\u001b[39;00m\n\u001b[1;32m--> 611\u001b[0m parser \u001b[38;5;241m=\u001b[39m TextFileReader(filepath_or_buffer, \u001b[38;5;241m*\u001b[39m\u001b[38;5;241m*\u001b[39mkwds)\n\u001b[0;32m    613\u001b[0m \u001b[38;5;28;01mif\u001b[39;00m chunksize \u001b[38;5;129;01mor\u001b[39;00m iterator:\n\u001b[0;32m    614\u001b[0m     \u001b[38;5;28;01mreturn\u001b[39;00m parser\n",
      "File \u001b[1;32m~\\anaconda3\\Lib\\site-packages\\pandas\\io\\parsers\\readers.py:1448\u001b[0m, in \u001b[0;36mTextFileReader.__init__\u001b[1;34m(self, f, engine, **kwds)\u001b[0m\n\u001b[0;32m   1445\u001b[0m     \u001b[38;5;28mself\u001b[39m\u001b[38;5;241m.\u001b[39moptions[\u001b[38;5;124m\"\u001b[39m\u001b[38;5;124mhas_index_names\u001b[39m\u001b[38;5;124m\"\u001b[39m] \u001b[38;5;241m=\u001b[39m kwds[\u001b[38;5;124m\"\u001b[39m\u001b[38;5;124mhas_index_names\u001b[39m\u001b[38;5;124m\"\u001b[39m]\n\u001b[0;32m   1447\u001b[0m \u001b[38;5;28mself\u001b[39m\u001b[38;5;241m.\u001b[39mhandles: IOHandles \u001b[38;5;241m|\u001b[39m \u001b[38;5;28;01mNone\u001b[39;00m \u001b[38;5;241m=\u001b[39m \u001b[38;5;28;01mNone\u001b[39;00m\n\u001b[1;32m-> 1448\u001b[0m \u001b[38;5;28mself\u001b[39m\u001b[38;5;241m.\u001b[39m_engine \u001b[38;5;241m=\u001b[39m \u001b[38;5;28mself\u001b[39m\u001b[38;5;241m.\u001b[39m_make_engine(f, \u001b[38;5;28mself\u001b[39m\u001b[38;5;241m.\u001b[39mengine)\n",
      "File \u001b[1;32m~\\anaconda3\\Lib\\site-packages\\pandas\\io\\parsers\\readers.py:1705\u001b[0m, in \u001b[0;36mTextFileReader._make_engine\u001b[1;34m(self, f, engine)\u001b[0m\n\u001b[0;32m   1703\u001b[0m     \u001b[38;5;28;01mif\u001b[39;00m \u001b[38;5;124m\"\u001b[39m\u001b[38;5;124mb\u001b[39m\u001b[38;5;124m\"\u001b[39m \u001b[38;5;129;01mnot\u001b[39;00m \u001b[38;5;129;01min\u001b[39;00m mode:\n\u001b[0;32m   1704\u001b[0m         mode \u001b[38;5;241m+\u001b[39m\u001b[38;5;241m=\u001b[39m \u001b[38;5;124m\"\u001b[39m\u001b[38;5;124mb\u001b[39m\u001b[38;5;124m\"\u001b[39m\n\u001b[1;32m-> 1705\u001b[0m \u001b[38;5;28mself\u001b[39m\u001b[38;5;241m.\u001b[39mhandles \u001b[38;5;241m=\u001b[39m get_handle(\n\u001b[0;32m   1706\u001b[0m     f,\n\u001b[0;32m   1707\u001b[0m     mode,\n\u001b[0;32m   1708\u001b[0m     encoding\u001b[38;5;241m=\u001b[39m\u001b[38;5;28mself\u001b[39m\u001b[38;5;241m.\u001b[39moptions\u001b[38;5;241m.\u001b[39mget(\u001b[38;5;124m\"\u001b[39m\u001b[38;5;124mencoding\u001b[39m\u001b[38;5;124m\"\u001b[39m, \u001b[38;5;28;01mNone\u001b[39;00m),\n\u001b[0;32m   1709\u001b[0m     compression\u001b[38;5;241m=\u001b[39m\u001b[38;5;28mself\u001b[39m\u001b[38;5;241m.\u001b[39moptions\u001b[38;5;241m.\u001b[39mget(\u001b[38;5;124m\"\u001b[39m\u001b[38;5;124mcompression\u001b[39m\u001b[38;5;124m\"\u001b[39m, \u001b[38;5;28;01mNone\u001b[39;00m),\n\u001b[0;32m   1710\u001b[0m     memory_map\u001b[38;5;241m=\u001b[39m\u001b[38;5;28mself\u001b[39m\u001b[38;5;241m.\u001b[39moptions\u001b[38;5;241m.\u001b[39mget(\u001b[38;5;124m\"\u001b[39m\u001b[38;5;124mmemory_map\u001b[39m\u001b[38;5;124m\"\u001b[39m, \u001b[38;5;28;01mFalse\u001b[39;00m),\n\u001b[0;32m   1711\u001b[0m     is_text\u001b[38;5;241m=\u001b[39mis_text,\n\u001b[0;32m   1712\u001b[0m     errors\u001b[38;5;241m=\u001b[39m\u001b[38;5;28mself\u001b[39m\u001b[38;5;241m.\u001b[39moptions\u001b[38;5;241m.\u001b[39mget(\u001b[38;5;124m\"\u001b[39m\u001b[38;5;124mencoding_errors\u001b[39m\u001b[38;5;124m\"\u001b[39m, \u001b[38;5;124m\"\u001b[39m\u001b[38;5;124mstrict\u001b[39m\u001b[38;5;124m\"\u001b[39m),\n\u001b[0;32m   1713\u001b[0m     storage_options\u001b[38;5;241m=\u001b[39m\u001b[38;5;28mself\u001b[39m\u001b[38;5;241m.\u001b[39moptions\u001b[38;5;241m.\u001b[39mget(\u001b[38;5;124m\"\u001b[39m\u001b[38;5;124mstorage_options\u001b[39m\u001b[38;5;124m\"\u001b[39m, \u001b[38;5;28;01mNone\u001b[39;00m),\n\u001b[0;32m   1714\u001b[0m )\n\u001b[0;32m   1715\u001b[0m \u001b[38;5;28;01massert\u001b[39;00m \u001b[38;5;28mself\u001b[39m\u001b[38;5;241m.\u001b[39mhandles \u001b[38;5;129;01mis\u001b[39;00m \u001b[38;5;129;01mnot\u001b[39;00m \u001b[38;5;28;01mNone\u001b[39;00m\n\u001b[0;32m   1716\u001b[0m f \u001b[38;5;241m=\u001b[39m \u001b[38;5;28mself\u001b[39m\u001b[38;5;241m.\u001b[39mhandles\u001b[38;5;241m.\u001b[39mhandle\n",
      "File \u001b[1;32m~\\anaconda3\\Lib\\site-packages\\pandas\\io\\common.py:863\u001b[0m, in \u001b[0;36mget_handle\u001b[1;34m(path_or_buf, mode, encoding, compression, memory_map, is_text, errors, storage_options)\u001b[0m\n\u001b[0;32m    858\u001b[0m \u001b[38;5;28;01melif\u001b[39;00m \u001b[38;5;28misinstance\u001b[39m(handle, \u001b[38;5;28mstr\u001b[39m):\n\u001b[0;32m    859\u001b[0m     \u001b[38;5;66;03m# Check whether the filename is to be opened in binary mode.\u001b[39;00m\n\u001b[0;32m    860\u001b[0m     \u001b[38;5;66;03m# Binary mode does not support 'encoding' and 'newline'.\u001b[39;00m\n\u001b[0;32m    861\u001b[0m     \u001b[38;5;28;01mif\u001b[39;00m ioargs\u001b[38;5;241m.\u001b[39mencoding \u001b[38;5;129;01mand\u001b[39;00m \u001b[38;5;124m\"\u001b[39m\u001b[38;5;124mb\u001b[39m\u001b[38;5;124m\"\u001b[39m \u001b[38;5;129;01mnot\u001b[39;00m \u001b[38;5;129;01min\u001b[39;00m ioargs\u001b[38;5;241m.\u001b[39mmode:\n\u001b[0;32m    862\u001b[0m         \u001b[38;5;66;03m# Encoding\u001b[39;00m\n\u001b[1;32m--> 863\u001b[0m         handle \u001b[38;5;241m=\u001b[39m \u001b[38;5;28mopen\u001b[39m(\n\u001b[0;32m    864\u001b[0m             handle,\n\u001b[0;32m    865\u001b[0m             ioargs\u001b[38;5;241m.\u001b[39mmode,\n\u001b[0;32m    866\u001b[0m             encoding\u001b[38;5;241m=\u001b[39mioargs\u001b[38;5;241m.\u001b[39mencoding,\n\u001b[0;32m    867\u001b[0m             errors\u001b[38;5;241m=\u001b[39merrors,\n\u001b[0;32m    868\u001b[0m             newline\u001b[38;5;241m=\u001b[39m\u001b[38;5;124m\"\u001b[39m\u001b[38;5;124m\"\u001b[39m,\n\u001b[0;32m    869\u001b[0m         )\n\u001b[0;32m    870\u001b[0m     \u001b[38;5;28;01melse\u001b[39;00m:\n\u001b[0;32m    871\u001b[0m         \u001b[38;5;66;03m# Binary mode\u001b[39;00m\n\u001b[0;32m    872\u001b[0m         handle \u001b[38;5;241m=\u001b[39m \u001b[38;5;28mopen\u001b[39m(handle, ioargs\u001b[38;5;241m.\u001b[39mmode)\n",
      "\u001b[1;31mFileNotFoundError\u001b[0m: [Errno 2] No such file or directory: 'input.csv'"
     ]
    }
   ],
   "source": [
    "#2. Reading and Writing Data\n",
    "#Task: Read a CSV file into a DataFrame and write the DataFrame to a new CSV file.\n",
    "\n",
    "# Reading a CSV file\n",
    "df = pd.read_csv('input.csv')\n",
    "print(df)\n",
    "\n",
    "# Writing to a new CSV file\n",
    "df.to_csv('output.csv', index=False)\n"
   ]
  },
  {
   "cell_type": "code",
   "execution_count": 11,
   "id": "28145a1b-b592-4ca2-a8de-e8a8df082426",
   "metadata": {},
   "outputs": [
    {
     "name": "stdout",
     "output_type": "stream",
     "text": [
      "      Name         City\n",
      "0    Alice     New York\n",
      "1      Bob  Los Angeles\n",
      "2  Charlie      Chicago\n",
      "3    David      Houston\n",
      "4      Eva      Phoenix\n",
      "      Name  Age         City\n",
      "1      Bob   27  Los Angeles\n",
      "2  Charlie   22      Chicago\n",
      "    Name  Age         City\n",
      "1    Bob   27  Los Angeles\n",
      "3  David   32      Houston\n",
      "4    Eva   29      Phoenix\n"
     ]
    }
   ],
   "source": [
    "#3. Basic DataFrame Operations\n",
    "#Task: Create a DataFrame and demonstrate basic operations like selecting specific columns, \n",
    "#rows, and filtering based on conditions.\n",
    "data = {\n",
    "    'Name': ['Alice', 'Bob', 'Charlie', 'David', 'Eva'],\n",
    "    'Age': [24, 27, 22, 32, 29],\n",
    "    'City': ['New York', 'Los Angeles', 'Chicago', 'Houston', 'Phoenix']\n",
    "}\n",
    "\n",
    "df = pd.DataFrame(data)\n",
    "\n",
    "# Select specific columns\n",
    "print(df[['Name', 'City']])\n",
    "\n",
    "# Select specific rows\n",
    "print(df.iloc[1:3])\n",
    "\n",
    "# Filtering based on conditions\n",
    "print(df[df['Age'] > 25])\n"
   ]
  },
  {
   "cell_type": "code",
   "execution_count": 12,
   "id": "75af23a7-30a5-4a37-82f8-84625ab426ad",
   "metadata": {},
   "outputs": [
    {
     "name": "stdout",
     "output_type": "stream",
     "text": [
      "Mean:\n",
      " A    30.0\n",
      "B    25.0\n",
      "C     6.0\n",
      "dtype: float64\n",
      "Median:\n",
      " A    30.0\n",
      "B    25.0\n",
      "C     6.0\n",
      "dtype: float64\n",
      "Min:\n",
      " A    10\n",
      "B     5\n",
      "C     2\n",
      "dtype: int64\n",
      "Max:\n",
      " A    50\n",
      "B    45\n",
      "C    10\n",
      "dtype: int64\n",
      "Standard Deviation:\n",
      " A    15.811388\n",
      "B    15.811388\n",
      "C     3.162278\n",
      "dtype: float64\n"
     ]
    }
   ],
   "source": [
    "#4. DataFrame Statistics\n",
    "#Task: Create a DataFrame with numerical data and calculate summary \n",
    "#statistics like mean, median, min, max, and standard deviation for each column.\n",
    "data = {\n",
    "    'A': [10, 20, 30, 40, 50],\n",
    "    'B': [5, 15, 25, 35, 45],\n",
    "    'C': [2, 4, 6, 8, 10]\n",
    "}\n",
    "\n",
    "df = pd.DataFrame(data)\n",
    "\n",
    "print(\"Mean:\\n\", df.mean())\n",
    "print(\"Median:\\n\", df.median())\n",
    "print(\"Min:\\n\", df.min())\n",
    "print(\"Max:\\n\", df.max())\n",
    "print(\"Standard Deviation:\\n\", df.std())\n"
   ]
  },
  {
   "cell_type": "code",
   "execution_count": 13,
   "id": "8272400a-1049-44a9-a9f3-624b88111480",
   "metadata": {},
   "outputs": [
    {
     "name": "stdout",
     "output_type": "stream",
     "text": [
      "Fill NaN:\n",
      "      A    B    C\n",
      "0  1.0  0.0  1.0\n",
      "1  2.0  2.0  0.0\n",
      "2  0.0  3.0  3.0\n",
      "3  4.0  0.0  4.0\n",
      "4  5.0  5.0  0.0\n",
      "Drop NaN:\n",
      " Empty DataFrame\n",
      "Columns: [A, B, C]\n",
      "Index: []\n",
      "Interpolate NaN:\n",
      "      A    B    C\n",
      "0  1.0  NaN  1.0\n",
      "1  2.0  2.0  2.0\n",
      "2  3.0  3.0  3.0\n",
      "3  4.0  4.0  4.0\n",
      "4  5.0  5.0  4.0\n"
     ]
    }
   ],
   "source": [
    "#5. Handling Missing Data\n",
    "#Task: Create a DataFrame with some missing values and demonstrate how to fill, drop, or interpolate these missing values.\n",
    "data = {\n",
    "    'A': [1, 2, None, 4, 5],\n",
    "    'B': [None, 2, 3, None, 5],\n",
    "    'C': [1, None, 3, 4, None]\n",
    "}\n",
    "\n",
    "df = pd.DataFrame(data)\n",
    "\n",
    "# Fill missing values\n",
    "print(\"Fill NaN:\\n\", df.fillna(0))\n",
    "\n",
    "# Drop rows with missing values\n",
    "print(\"Drop NaN:\\n\", df.dropna())\n",
    "\n",
    "# Interpolate missing values\n",
    "print(\"Interpolate NaN:\\n\", df.interpolate())\n"
   ]
  },
  {
   "cell_type": "code",
   "execution_count": 14,
   "id": "27f68bc9-38b7-4f94-95ef-4242fba7de0d",
   "metadata": {},
   "outputs": [
    {
     "name": "stdout",
     "output_type": "stream",
     "text": [
      "             sum  mean\n",
      "City                  \n",
      "Chicago       22  22.0\n",
      "Houston       32  32.0\n",
      "Los Angeles   27  27.0\n",
      "New York      24  24.0\n",
      "Phoenix       29  29.0\n"
     ]
    }
   ],
   "source": [
    "#6. Grouping Data\n",
    "#Task: Create a DataFrame and group the data based on one of the columns, then calculate the sum and mean for each group.\n",
    "data = {\n",
    "    'Name': ['Alice', 'Bob', 'Charlie', 'David', 'Eva'],\n",
    "    'Age': [24, 27, 22, 32, 29],\n",
    "    'City': ['New York', 'Los Angeles', 'Chicago', 'Houston', 'Phoenix']\n",
    "}\n",
    "\n",
    "df = pd.DataFrame(data)\n",
    "\n",
    "# Group by 'City' and calculate sum and mean of 'Age'\n",
    "grouped = df.groupby('City')['Age'].agg(['sum', 'mean'])\n",
    "print(grouped)\n"
   ]
  },
  {
   "cell_type": "code",
   "execution_count": 15,
   "id": "53e04b0b-b21e-4d08-9f23-5def537e4a13",
   "metadata": {},
   "outputs": [
    {
     "name": "stdout",
     "output_type": "stream",
     "text": [
      "Inner join:\n",
      "    ID   Name  Age\n",
      "0   1  Alice   24\n",
      "1   2    Bob   27\n",
      "Outer join:\n",
      "    ID     Name   Age\n",
      "0   1    Alice  24.0\n",
      "1   2      Bob  27.0\n",
      "2   3  Charlie   NaN\n",
      "3   4      NaN  22.0\n",
      "Left join:\n",
      "    ID     Name   Age\n",
      "0   1    Alice  24.0\n",
      "1   2      Bob  27.0\n",
      "2   3  Charlie   NaN\n",
      "Right join:\n",
      "    ID   Name  Age\n",
      "0   1  Alice   24\n",
      "1   2    Bob   27\n",
      "2   4    NaN   22\n"
     ]
    }
   ],
   "source": [
    "#7. Merging DataFrames\n",
    "#Task: Create two DataFrames with a common column and demonstrate how to \n",
    "#merge them using different types of joins (inner, outer, left, right).\n",
    "df1 = pd.DataFrame({\n",
    "    'ID': [1, 2, 3],\n",
    "    'Name': ['Alice', 'Bob', 'Charlie']\n",
    "})\n",
    "\n",
    "df2 = pd.DataFrame({\n",
    "    'ID': [1, 2, 4],\n",
    "    'Age': [24, 27, 22]\n",
    "})\n",
    "\n",
    "# Inner join\n",
    "print(\"Inner join:\\n\", pd.merge(df1, df2, on='ID', how='inner'))\n",
    "\n",
    "# Outer join\n",
    "print(\"Outer join:\\n\", pd.merge(df1, df2, on='ID', how='outer'))\n",
    "\n",
    "# Left join\n",
    "print(\"Left join:\\n\", pd.merge(df1, df2, on='ID', how='left'))\n",
    "\n",
    "# Right join\n",
    "print(\"Right join:\\n\", pd.merge(df1, df2, on='ID', how='right'))\n"
   ]
  },
  {
   "cell_type": "code",
   "execution_count": 16,
   "id": "eb2767ec-0787-472a-acb4-a195a31bc748",
   "metadata": {},
   "outputs": [
    {
     "name": "stdout",
     "output_type": "stream",
     "text": [
      "             Score\n",
      "City              \n",
      "Chicago       78.0\n",
      "Houston       92.0\n",
      "Los Angeles   90.0\n",
      "New York      85.0\n",
      "Phoenix       88.0\n"
     ]
    }
   ],
   "source": [
    "#8. Pivot Tables\n",
    "#Task: Create a DataFrame and generate a pivot table summarizing the data in a meaningful way.\n",
    "data = {\n",
    "    'Name': ['Alice', 'Bob', 'Charlie', 'David', 'Eva'],\n",
    "    'Age': [24, 27, 22, 32, 29],\n",
    "    'City': ['New York', 'Los Angeles', 'Chicago', 'Houston', 'Phoenix'],\n",
    "    'Score': [85, 90, 78, 92, 88]\n",
    "}\n",
    "\n",
    "df = pd.DataFrame(data)\n",
    "\n",
    "# Create a pivot table with average 'Score' for each 'City'\n",
    "pivot_table = pd.pivot_table(df, values='Score', index='City', aggfunc='mean')\n",
    "print(pivot_table)\n"
   ]
  },
  {
   "cell_type": "code",
   "execution_count": null,
   "id": "39693860-d19c-4221-a585-458568a73e38",
   "metadata": {},
   "outputs": [],
   "source": []
  }
 ],
 "metadata": {
  "kernelspec": {
   "display_name": "Python 3 (ipykernel)",
   "language": "python",
   "name": "python3"
  },
  "language_info": {
   "codemirror_mode": {
    "name": "ipython",
    "version": 3
   },
   "file_extension": ".py",
   "mimetype": "text/x-python",
   "name": "python",
   "nbconvert_exporter": "python",
   "pygments_lexer": "ipython3",
   "version": "3.11.7"
  }
 },
 "nbformat": 4,
 "nbformat_minor": 5
}
